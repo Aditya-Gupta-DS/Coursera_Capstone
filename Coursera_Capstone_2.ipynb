{
  "nbformat": 4,
  "nbformat_minor": 0,
  "metadata": {
    "colab": {
      "name": "Coursera Capstone 2.ipynb",
      "provenance": [],
      "collapsed_sections": []
    },
    "kernelspec": {
      "name": "python3",
      "display_name": "Python 3"
    }
  },
  "cells": [
    {
      "cell_type": "code",
      "metadata": {
        "id": "Roq2uMOVqLGs"
      },
      "source": [
        "# importing necessary libraries\r\n",
        "import pandas as pd\r\n",
        "import numpy as np\r\n",
        "import requests\r\n",
        "\r\n",
        "from bs4 import BeautifulSoup"
      ],
      "execution_count": null,
      "outputs": []
    },
    {
      "cell_type": "code",
      "metadata": {
        "id": "Od3INQe-qMuY"
      },
      "source": [
        "source = requests.get('https://en.wikipedia.org/wiki/List_of_postal_codes_of_Canada:_M').text\r\n",
        "\r\n",
        "soup = BeautifulSoup(source, 'html5lib')"
      ],
      "execution_count": null,
      "outputs": []
    },
    {
      "cell_type": "code",
      "metadata": {
        "id": "G5APFFeeqMeo"
      },
      "source": [
        "# initialize an empty dictionary to save the data in\r\n",
        "postal_codes_dict = {}"
      ],
      "execution_count": null,
      "outputs": []
    },
    {
      "cell_type": "code",
      "metadata": {
        "id": "yL2KNbuVqME6"
      },
      "source": [
        "for table_cell in soup.find_all('td'):\r\n",
        "    try:\r\n",
        "        # get the postal code\r\n",
        "        postal_code = table_cell.p.b.text \r\n",
        "        postal_code_investigate = table_cell.span.text\r\n",
        "\r\n",
        "        # get the rest of the data in the cell\r\n",
        "        neighborhoods_data = table_cell.span.text \r\n",
        "        \r\n",
        "        # get the borough in the cell\r\n",
        "        borough = neighborhoods_data.split('(')[0] \r\n",
        "        \r\n",
        "        # if the cell is not assigned then ignore it\r\n",
        "        if neighborhoods_data == 'Not assigned':\r\n",
        "            neighborhoods = []\r\n",
        "        # else process the data and add it to the dictionary\r\n",
        "        else:\r\n",
        "            postal_codes_dict[postal_code] = {}\r\n",
        "            \r\n",
        "            try:\r\n",
        "                neighborhoods = neighborhoods_data.split('(')[1]\r\n",
        "            \r\n",
        "                # remove parantheses from neighborhoods string\r\n",
        "                neighborhoods = neighborhoods.replace('(', ' ')\r\n",
        "                neighborhoods = neighborhoods.replace(')', ' ')\r\n",
        "\r\n",
        "                neighborhoods_names = neighborhoods.split('/')\r\n",
        "                neighborhoods_clean = ', '.join([name.strip() for name in neighborhoods_names])\r\n",
        "            except:\r\n",
        "                borough = borough.strip('\\n')\r\n",
        "                neighborhoods_clean = borough\r\n",
        " \r\n",
        "            # add borough and neighborhood to dictionary\r\n",
        "            postal_codes_dict[postal_code]['borough'] = borough\r\n",
        "            postal_codes_dict[postal_code]['neighborhoods'] = neighborhoods_clean\r\n",
        "    except:\r\n",
        "        pass"
      ],
      "execution_count": null,
      "outputs": []
    },
    {
      "cell_type": "code",
      "metadata": {
        "colab": {
          "base_uri": "https://localhost:8080/"
        },
        "id": "rm_iZlmiqo2C",
        "outputId": "d94a6b99-fc79-4f56-9ad6-bf7f70859d19"
      },
      "source": [
        "# create an empty dataframe\r\n",
        "columns = ['PostalCode', 'Borough', 'Neighborhood']\r\n",
        "toronto_data = pd.DataFrame(columns=columns)\r\n",
        "print(toronto_data)"
      ],
      "execution_count": null,
      "outputs": [
        {
          "output_type": "stream",
          "text": [
            "Empty DataFrame\n",
            "Columns: [PostalCode, Borough, Neighborhood]\n",
            "Index: []\n"
          ],
          "name": "stdout"
        }
      ]
    },
    {
      "cell_type": "code",
      "metadata": {
        "id": "e_y63oTBo7wY"
      },
      "source": [
        "# populate dataframe with data from dictionary\r\n",
        "for ind, postal_code in enumerate(postal_codes_dict):\r\n",
        "    borough = postal_codes_dict[postal_code]['borough']\r\n",
        "    neighborhood = postal_codes_dict[postal_code]['neighborhoods']\r\n",
        "    toronto_data = toronto_data.append({\"PostalCode\": postal_code, \r\n",
        "                                        \"Borough\": borough, \r\n",
        "                                        \"Neighborhood\": neighborhood},\r\n",
        "                                        ignore_index=True)\r\n"
      ],
      "execution_count": null,
      "outputs": []
    },
    {
      "cell_type": "code",
      "metadata": {
        "colab": {
          "base_uri": "https://localhost:8080/"
        },
        "id": "SVObYcPIqrVR",
        "outputId": "4c60ccb6-763c-40c8-c251-818855db2961"
      },
      "source": [
        "# print number of rows of dataframe\r\n",
        "toronto_data.shape[0]"
      ],
      "execution_count": null,
      "outputs": [
        {
          "output_type": "execute_result",
          "data": {
            "text/plain": [
              "0"
            ]
          },
          "metadata": {
            "tags": []
          },
          "execution_count": 7
        }
      ]
    },
    {
      "cell_type": "code",
      "metadata": {
        "colab": {
          "base_uri": "https://localhost:8080/",
          "height": 367
        },
        "id": "dTgb-7XHpxGP",
        "outputId": "c59ba765-951f-4c7e-d23b-a77274cb4092"
      },
      "source": [
        "# import geocoder\r\n",
        "import geocoder \r\n",
        "\r\n",
        "# initialize your variable to None\r\n",
        "lat_lng_coords = None\r\n",
        "\r\n",
        "# loop until you get the coordinates\r\n",
        "while(lat_lng_coords is None):\r\n",
        "  g = geocoder.google('{}, Toronto, Ontario'.format(postal_code))\r\n",
        "  lat_lng_coords = g.latlng\r\n",
        "\r\n",
        "latitude = lat_lng_coords[0]\r\n",
        "longitude = lat_lng_coords[1]"
      ],
      "execution_count": null,
      "outputs": [
        {
          "output_type": "error",
          "ename": "ModuleNotFoundError",
          "evalue": "ignored",
          "traceback": [
            "\u001b[0;31m---------------------------------------------------------------------------\u001b[0m",
            "\u001b[0;31mModuleNotFoundError\u001b[0m                       Traceback (most recent call last)",
            "\u001b[0;32m<ipython-input-8-15d80b1bb123>\u001b[0m in \u001b[0;36m<module>\u001b[0;34m()\u001b[0m\n\u001b[0;32m----> 1\u001b[0;31m \u001b[0;32mimport\u001b[0m \u001b[0mgeocoder\u001b[0m \u001b[0;31m# import geocoder\u001b[0m\u001b[0;34m\u001b[0m\u001b[0;34m\u001b[0m\u001b[0m\n\u001b[0m\u001b[1;32m      2\u001b[0m \u001b[0;34m\u001b[0m\u001b[0m\n\u001b[1;32m      3\u001b[0m \u001b[0;31m# initialize your variable to None\u001b[0m\u001b[0;34m\u001b[0m\u001b[0;34m\u001b[0m\u001b[0;34m\u001b[0m\u001b[0m\n\u001b[1;32m      4\u001b[0m \u001b[0mlat_lng_coords\u001b[0m \u001b[0;34m=\u001b[0m \u001b[0;32mNone\u001b[0m\u001b[0;34m\u001b[0m\u001b[0;34m\u001b[0m\u001b[0m\n\u001b[1;32m      5\u001b[0m \u001b[0;34m\u001b[0m\u001b[0m\n",
            "\u001b[0;31mModuleNotFoundError\u001b[0m: No module named 'geocoder'",
            "",
            "\u001b[0;31m---------------------------------------------------------------------------\u001b[0;32m\nNOTE: If your import is failing due to a missing package, you can\nmanually install dependencies using either !pip or !apt.\n\nTo view examples of installing some common dependencies, click the\n\"Open Examples\" button below.\n\u001b[0;31m---------------------------------------------------------------------------\u001b[0m\n"
          ]
        }
      ]
    }
  ]
}